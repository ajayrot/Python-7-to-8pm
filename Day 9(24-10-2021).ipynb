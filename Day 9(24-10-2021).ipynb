{
 "cells": [
  {
   "cell_type": "markdown",
   "metadata": {},
   "source": [
    "# String Slicing:\n"
   ]
  },
  {
   "cell_type": "code",
   "execution_count": 1,
   "metadata": {},
   "outputs": [
    {
     "name": "stdout",
     "output_type": "stream",
     "text": [
      "Python Programming <class 'str'>\n"
     ]
    }
   ],
   "source": [
    "s = \"Python Programming\"\n",
    "print(s,type(s))"
   ]
  },
  {
   "cell_type": "code",
   "execution_count": 8,
   "metadata": {},
   "outputs": [
    {
     "name": "stdout",
     "output_type": "stream",
     "text": [
      "P\n",
      "y\n",
      "g\n",
      "n\n",
      "Python \n",
      "Python Programming\n"
     ]
    }
   ],
   "source": [
    "# Access string\n",
    "print(s[0])\n",
    "print(s[1])\n",
    "print(s[-1])\n",
    "print(s[-2])\n",
    "print(s[0:7])\n",
    "print(s[0:])"
   ]
  },
  {
   "cell_type": "code",
   "execution_count": 10,
   "metadata": {},
   "outputs": [
    {
     "name": "stdout",
     "output_type": "stream",
     "text": [
      "ython Programmin\n",
      "thon Programmi\n"
     ]
    }
   ],
   "source": [
    "s = \"Python Programming\"\n",
    "# print all charater except fisrt and last charcaters\n",
    "print(s[1:-1])\n",
    "# print all characters except frist 2 characters and last 2 characters\n",
    "print(s[2:-2])"
   ]
  },
  {
   "cell_type": "code",
   "execution_count": 12,
   "metadata": {},
   "outputs": [
    {
     "name": "stdout",
     "output_type": "stream",
     "text": [
      "gnimmargorP nohtyP\n",
      "gnimmargorP nohtyP\n"
     ]
    }
   ],
   "source": [
    "# Reverse of string\n",
    "s = \"Python Programming\"\n",
    "print(s[::-1])\n",
    "print(s[-1::-1])"
   ]
  },
  {
   "cell_type": "code",
   "execution_count": 13,
   "metadata": {},
   "outputs": [
    {
     "data": {
      "text/plain": [
       "'nohtyP'"
      ]
     },
     "execution_count": 13,
     "metadata": {},
     "output_type": "execute_result"
    }
   ],
   "source": [
    "# Using function print reverse of string\n",
    "def reverse(a):\n",
    "    return a[::-1]\n",
    "reverse(\"Python\")"
   ]
  },
  {
   "cell_type": "code",
   "execution_count": 14,
   "metadata": {},
   "outputs": [
    {
     "data": {
      "text/plain": [
       "'gnimmargorP'"
      ]
     },
     "execution_count": 14,
     "metadata": {},
     "output_type": "execute_result"
    }
   ],
   "source": [
    "reverse(\"Programming\")"
   ]
  },
  {
   "cell_type": "markdown",
   "metadata": {},
   "source": [
    "# ASCII System:\n",
    "- A- Z --> 65-90\n",
    "- a-z  --> 97-122\n",
    "- 0-9 --> 48-57\n",
    "- Space --> 32"
   ]
  },
  {
   "cell_type": "code",
   "execution_count": 15,
   "metadata": {},
   "outputs": [
    {
     "name": "stdout",
     "output_type": "stream",
     "text": [
      "y 121 p 112\n"
     ]
    }
   ],
   "source": [
    "a = \"y\"\n",
    "a1 = \"p\"\n",
    "print(a,ord(a),a1,ord(a1))"
   ]
  },
  {
   "cell_type": "code",
   "execution_count": 16,
   "metadata": {},
   "outputs": [
    {
     "name": "stdout",
     "output_type": "stream",
     "text": [
      "A B C D E F G H I J K L M N O P Q R S T U V W X Y Z "
     ]
    }
   ],
   "source": [
    "for i in range(65,91):\n",
    "    print(chr(i),end = \" \")"
   ]
  },
  {
   "cell_type": "code",
   "execution_count": 17,
   "metadata": {},
   "outputs": [
    {
     "name": "stdout",
     "output_type": "stream",
     "text": [
      "a b c d e f g h i j k l m n o p q r s t u v w x y z "
     ]
    }
   ],
   "source": [
    "for i in range(97,123):\n",
    "    print(chr(i),end = \" \")"
   ]
  },
  {
   "cell_type": "code",
   "execution_count": 18,
   "metadata": {},
   "outputs": [
    {
     "name": "stdout",
     "output_type": "stream",
     "text": [
      "0 1 2 3 4 5 6 7 8 9 "
     ]
    }
   ],
   "source": [
    "for i in range(48,58):\n",
    "    print(chr(i),end = \" \")"
   ]
  },
  {
   "cell_type": "code",
   "execution_count": 19,
   "metadata": {},
   "outputs": [
    {
     "data": {
      "text/plain": [
       "False"
      ]
     },
     "execution_count": 19,
     "metadata": {},
     "output_type": "execute_result"
    }
   ],
   "source": [
    "# Find Given string palindrome or not\n",
    "def palindrome(s):\n",
    "    if s ==s[::-1]:\n",
    "        return True\n",
    "    return False\n",
    "palindrome(\"Python\")"
   ]
  },
  {
   "cell_type": "code",
   "execution_count": 20,
   "metadata": {},
   "outputs": [
    {
     "data": {
      "text/plain": [
       "True"
      ]
     },
     "execution_count": 20,
     "metadata": {},
     "output_type": "execute_result"
    }
   ],
   "source": [
    "palindrome(\"aha\")"
   ]
  },
  {
   "cell_type": "code",
   "execution_count": 21,
   "metadata": {},
   "outputs": [
    {
     "name": "stdout",
     "output_type": "stream",
     "text": [
      "P P "
     ]
    }
   ],
   "source": [
    "# Print Upper case characters from given string\n",
    "def upper(x):\n",
    "    for i in range(len(x)):\n",
    "        if ord(x[i]) >=65 and ord(x[i]) <=90:\n",
    "            print(x[i],end = \" \")\n",
    "upper(\"Python Programming\")"
   ]
  },
  {
   "cell_type": "code",
   "execution_count": 22,
   "metadata": {},
   "outputs": [
    {
     "name": "stdout",
     "output_type": "stream",
     "text": [
      "T I U Y T Y U I G Y G H C G H "
     ]
    }
   ],
   "source": [
    "upper(\"xrdtfyuTIUYTYUIGYGHjkhghCGHjhk\")"
   ]
  },
  {
   "cell_type": "code",
   "execution_count": 23,
   "metadata": {},
   "outputs": [
    {
     "name": "stdout",
     "output_type": "stream",
     "text": [
      "1 2 3 4 5 "
     ]
    }
   ],
   "source": [
    "# Extract digits from given string\n",
    "def digits(x):\n",
    "    for i in range(len(x)):\n",
    "        if ord(x[i]) >=48 and ord(x[i]) <=57:\n",
    "            print(x[i],end = \" \")\n",
    "digits(\"P1Y2Th3On45\")\n",
    "        \n",
    "        "
   ]
  },
  {
   "cell_type": "code",
   "execution_count": 24,
   "metadata": {},
   "outputs": [
    {
     "name": "stdout",
     "output_type": "stream",
     "text": [
      "a\n"
     ]
    }
   ],
   "source": [
    "s1 = \"A\"\n",
    "s1 = chr(ord(s1)+32)\n",
    "print(s1)"
   ]
  },
  {
   "cell_type": "code",
   "execution_count": 26,
   "metadata": {},
   "outputs": [
    {
     "data": {
      "text/plain": [
       "' pYtHoN'"
      ]
     },
     "execution_count": 26,
     "metadata": {},
     "output_type": "execute_result"
    }
   ],
   "source": [
    "# Input:PyThOn\n",
    "# output: pYtHoN\n",
    "def case(s):\n",
    "    s1 = \" \"\n",
    "    for i in range(len(s)):\n",
    "        if ord(s[i]) >=65 and ord(s[i]) <=90:\n",
    "            s1 += chr(ord(s[i])+32)\n",
    "        if ord(s[i]) >=97 and ord(s[i]) <=122:\n",
    "            s1 += chr(ord(s[i])-32)\n",
    "    return s1\n",
    "case(\"PyThOn\")\n",
    "\n",
    "            \n",
    "\n",
    "        \n",
    "                "
   ]
  },
  {
   "cell_type": "code",
   "execution_count": null,
   "metadata": {},
   "outputs": [],
   "source": []
  }
 ],
 "metadata": {
  "kernelspec": {
   "display_name": "Python 3",
   "language": "python",
   "name": "python3"
  },
  "language_info": {
   "codemirror_mode": {
    "name": "ipython",
    "version": 3
   },
   "file_extension": ".py",
   "mimetype": "text/x-python",
   "name": "python",
   "nbconvert_exporter": "python",
   "pygments_lexer": "ipython3",
   "version": "3.8.5"
  }
 },
 "nbformat": 4,
 "nbformat_minor": 4
}
