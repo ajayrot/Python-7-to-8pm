{
 "cells": [
  {
   "cell_type": "markdown",
   "metadata": {},
   "source": [
    "# Inheritance:\n",
    "- It is way of creating a new class for using details of an existing class without modifying it."
   ]
  },
  {
   "cell_type": "code",
   "execution_count": 1,
   "metadata": {},
   "outputs": [
    {
     "name": "stdout",
     "output_type": "stream",
     "text": [
      "Parrot is ready\n",
      "Parrot\n",
      "Swim Faster\n",
      "Run Faster\n"
     ]
    }
   ],
   "source": [
    "class Bird:# Parent class\n",
    "    def __init__(self):\n",
    "        print(\"Bird is ready\")\n",
    "    def whozthis(self):\n",
    "        print(\"Bird\")\n",
    "    def fast(self):\n",
    "        print(\"Swim Faster\")\n",
    "class Parrot(Bird):# Child Class\n",
    "    def __init__(self):\n",
    "        print(\"Parrot is ready\")\n",
    "    def whozthis(self):\n",
    "        print(\"Parrot\")\n",
    "    def run(self):\n",
    "        print(\"Run Faster\")\n",
    "parrot = Parrot()\n",
    "parrot.whozthis()\n",
    "parrot.fast()\n",
    "parrot.run()"
   ]
  },
  {
   "cell_type": "markdown",
   "metadata": {},
   "source": [
    "# Regular Expressions:\n",
    "- used for specific pattern matching\n",
    "- Symbolic notation for regular expression is **re**"
   ]
  },
  {
   "cell_type": "markdown",
   "metadata": {},
   "source": [
    "# RE for Digits\n",
    "- [0-9]\n",
    "  - Eg: To valiate 2 digit number\n",
    "     - ^[0-9]{2}$\n",
    "     \n",
    "  - To validate 5 digit number\n",
    "    - ^[0-9]{5}$"
   ]
  },
  {
   "cell_type": "markdown",
   "metadata": {},
   "source": [
    "# RE For Characters\n",
    "- [a-z]\n",
    "- [A-Z]\n",
    "   - Eg:To validate 5 lower case charcaters\n",
    "     - ^[a-z]{5}$\n",
    "     \n",
    "   - To validate 6 upper case characters\n",
    "     - ^[A-Z]{6}$\n",
    "     \n",
    "   - To validate 5 charcaters which contains lower case and upper case\n",
    "      - ^[a-zA-Z]{5}$"
   ]
  },
  {
   "cell_type": "code",
   "execution_count": 2,
   "metadata": {},
   "outputs": [
    {
     "data": {
      "text/plain": [
       "False"
      ]
     },
     "execution_count": 2,
     "metadata": {},
     "output_type": "execute_result"
    }
   ],
   "source": [
    "# Function to validate 4 digit number\n",
    "import re\n",
    "def fourdigit(n):\n",
    "    pattern = \"^[0-9]{4}$\"\n",
    "    n = str(n)\n",
    "    if re.match(pattern,n):\n",
    "        return True\n",
    "    return False\n",
    "fourdigit(654)\n",
    "    "
   ]
  },
  {
   "cell_type": "code",
   "execution_count": 3,
   "metadata": {},
   "outputs": [
    {
     "data": {
      "text/plain": [
       "True"
      ]
     },
     "execution_count": 3,
     "metadata": {},
     "output_type": "execute_result"
    }
   ],
   "source": [
    "fourdigit(5464)"
   ]
  },
  {
   "cell_type": "code",
   "execution_count": 4,
   "metadata": {},
   "outputs": [
    {
     "data": {
      "text/plain": [
       "True"
      ]
     },
     "execution_count": 4,
     "metadata": {},
     "output_type": "execute_result"
    }
   ],
   "source": [
    "# Function to vali0date username\n",
    "# Username -- lowercase ,uppercase ,Numbers\n",
    "def username(n):\n",
    "    pattern = \"^[a-zA-Z0-9]{8}$\"\n",
    "    if re.match(pattern,n):\n",
    "        return True\n",
    "    return False\n",
    "username(\"Ajaykmr1\")\n",
    "    "
   ]
  },
  {
   "cell_type": "code",
   "execution_count": 5,
   "metadata": {},
   "outputs": [
    {
     "data": {
      "text/plain": [
       "False"
      ]
     },
     "execution_count": 5,
     "metadata": {},
     "output_type": "execute_result"
    }
   ],
   "source": [
    "username(\"Ajay\")"
   ]
  },
  {
   "cell_type": "markdown",
   "metadata": {},
   "source": [
    "# Re to Match Indian Mobile Number\n",
    "- 9846565465  --> \"^[7-9][0-9]{9}$\"\n",
    "\n",
    "- 09846131214 --> \"^[0][7-9][0-9]{9}$\"\n",
    "\n",
    "- +919846654654 -->\"^[+][9][1][7-9][0-9]{9}$\""
   ]
  },
  {
   "cell_type": "code",
   "execution_count": 6,
   "metadata": {},
   "outputs": [
    {
     "data": {
      "text/plain": [
       "True"
      ]
     },
     "execution_count": 6,
     "metadata": {},
     "output_type": "execute_result"
    }
   ],
   "source": [
    "# To validate indian mobile number\n",
    "def mobile(n):\n",
    "    pattern = \"^[7-9][0-9]{9}$|^[0][7-9][0-9]{9}$|^[+][9][1][7-9][0-9]{9}$\"\n",
    "    if re.match(pattern,n):\n",
    "        return True\n",
    "    return False\n",
    "mobile(\"9846565465\")"
   ]
  },
  {
   "cell_type": "code",
   "execution_count": 7,
   "metadata": {},
   "outputs": [
    {
     "data": {
      "text/plain": [
       "True"
      ]
     },
     "execution_count": 7,
     "metadata": {},
     "output_type": "execute_result"
    }
   ],
   "source": [
    "mobile(\"09846131214\")"
   ]
  },
  {
   "cell_type": "code",
   "execution_count": 10,
   "metadata": {},
   "outputs": [
    {
     "data": {
      "text/plain": [
       "True"
      ]
     },
     "execution_count": 10,
     "metadata": {},
     "output_type": "execute_result"
    }
   ],
   "source": [
    "mobile(\"+919846654658\")"
   ]
  },
  {
   "cell_type": "markdown",
   "metadata": {},
   "source": [
    "# Re For to validate Roll Number\n",
    "- 1241A0305\n",
    "- 1241A0987\n"
   ]
  },
  {
   "cell_type": "code",
   "execution_count": 12,
   "metadata": {},
   "outputs": [
    {
     "data": {
      "text/plain": [
       "True"
      ]
     },
     "execution_count": 12,
     "metadata": {},
     "output_type": "execute_result"
    }
   ],
   "source": [
    "def rollnumber(n):\n",
    "    pattern = \"^[1][2][4][1][A][0-9]{4}$\"\n",
    "    if re.match(pattern,n):\n",
    "        return True\n",
    "    return False\n",
    "rollnumber(\"1241A0305\")"
   ]
  },
  {
   "cell_type": "markdown",
   "metadata": {},
   "source": [
    "# Re to validate Email id:\n",
    "- username@domainname.extension\n",
    "- ajay@gmail.com\n",
    "- Username\n",
    "   - lenght [6-15]\n",
    "   - spl characters\n",
    "- Domainname\n",
    "   - lenght [3-10]\n",
    "   - no spl charcaters\n",
    "- Extension\n",
    "   - lenght [2-5]"
   ]
  },
  {
   "cell_type": "code",
   "execution_count": 13,
   "metadata": {},
   "outputs": [
    {
     "data": {
      "text/plain": [
       "True"
      ]
     },
     "execution_count": 13,
     "metadata": {},
     "output_type": "execute_result"
    }
   ],
   "source": [
    "# Function to validate Email id \n",
    "def email(n):\n",
    "    pattern = \"^[a-zA-Z0-9_.]{6,15}[@][a-z]{3,10}[.][a-z]{2,5}$\"\n",
    "    if re.match(pattern,n):\n",
    "        return True\n",
    "    return False\n",
    "email(\"Ajay_kmr1@gmail.org\")"
   ]
  },
  {
   "cell_type": "code",
   "execution_count": null,
   "metadata": {},
   "outputs": [],
   "source": []
  }
 ],
 "metadata": {
  "kernelspec": {
   "display_name": "Python 3",
   "language": "python",
   "name": "python3"
  },
  "language_info": {
   "codemirror_mode": {
    "name": "ipython",
    "version": 3
   },
   "file_extension": ".py",
   "mimetype": "text/x-python",
   "name": "python",
   "nbconvert_exporter": "python",
   "pygments_lexer": "ipython3",
   "version": "3.8.5"
  }
 },
 "nbformat": 4,
 "nbformat_minor": 4
}
