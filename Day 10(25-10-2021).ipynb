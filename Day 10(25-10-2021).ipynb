{
 "cells": [
  {
   "cell_type": "markdown",
   "metadata": {},
   "source": [
    "# Object Oriented Programming:\n",
    "- Python supprots Different Programming Appaorch\n",
    "- One of the popular aparoch is to solve programs by creating object\n",
    "- It is Object Oriented Programming\n",
    "- Object has 2 charactertics\n",
    "   - Attributes\n",
    "   - Behaviour\n",
    "   - Eg: Parrot has an Object\n",
    "        - Name,Age,Color as Atrributes\n",
    "        - Singing,Dancing as Behaviour"
   ]
  },
  {
   "cell_type": "markdown",
   "metadata": {},
   "source": [
    "# OOPS In Python\n",
    "- Class\n",
    "- Object\n",
    "- Methods\n",
    "- Contructor\n",
    "- Inheritance"
   ]
  },
  {
   "cell_type": "code",
   "execution_count": 1,
   "metadata": {},
   "outputs": [],
   "source": [
    "# Syntax:\n",
    "class parrot:\n",
    "    pass # To avoid getting error"
   ]
  },
  {
   "cell_type": "markdown",
   "metadata": {},
   "source": [
    "# Object:\n",
    "- When class is defined only the description for objects derived.\n"
   ]
  },
  {
   "cell_type": "code",
   "execution_count": null,
   "metadata": {},
   "outputs": [],
   "source": [
    "# create a object\n",
    "obj = Parrot() # Obj is an object of class parrot"
   ]
  },
  {
   "cell_type": "code",
   "execution_count": 2,
   "metadata": {},
   "outputs": [
    {
     "name": "stdout",
     "output_type": "stream",
     "text": [
      "<class '__main__.cls'>\n"
     ]
    }
   ],
   "source": [
    "# Craete a class\n",
    "class cls:\n",
    "    x = 10\n",
    "print(cls)"
   ]
  },
  {
   "cell_type": "code",
   "execution_count": 3,
   "metadata": {},
   "outputs": [
    {
     "name": "stdout",
     "output_type": "stream",
     "text": [
      "10\n"
     ]
    }
   ],
   "source": [
    "# With class create object\n",
    "class cls:\n",
    "    x = 10\n",
    "a = cls() # Object named a and print the value of x\n",
    "print(a.x)"
   ]
  },
  {
   "cell_type": "code",
   "execution_count": 4,
   "metadata": {},
   "outputs": [
    {
     "name": "stdout",
     "output_type": "stream",
     "text": [
      "Test method from cls class\n"
     ]
    }
   ],
   "source": [
    "# creating a method in class\n",
    "class cls:\n",
    "    #  create a method\n",
    "    def test(self):# self parameter is used to access variable with belong t class\n",
    "        print(\"Test method from cls class\")\n",
    "obj = cls()\n",
    "obj.test()"
   ]
  },
  {
   "cell_type": "code",
   "execution_count": 5,
   "metadata": {},
   "outputs": [
    {
     "name": "stdout",
     "output_type": "stream",
     "text": [
      "My name is:  Ajay\n"
     ]
    }
   ],
   "source": [
    "class cls1:\n",
    "    def test1(self,name):\n",
    "        print(\"My name is: \",name)\n",
    "obj1 = cls1()\n",
    "obj1.test1(\"Ajay\")"
   ]
  },
  {
   "cell_type": "code",
   "execution_count": 6,
   "metadata": {},
   "outputs": [
    {
     "data": {
      "text/plain": [
       "21"
      ]
     },
     "execution_count": 6,
     "metadata": {},
     "output_type": "execute_result"
    }
   ],
   "source": [
    "# Adding 3 numbers\n",
    "class cls2:\n",
    "    def add(self,a,b,c):\n",
    "        return a+b+c\n",
    "obj = cls2()\n",
    "obj.add(5,7,9)"
   ]
  },
  {
   "cell_type": "code",
   "execution_count": 7,
   "metadata": {},
   "outputs": [
    {
     "name": "stdout",
     "output_type": "stream",
     "text": [
      "puppy Bird\n"
     ]
    }
   ],
   "source": [
    "class parrot:\n",
    "    def dis(self):\n",
    "        name = \"puppy\"\n",
    "        tye = \"Bird\"\n",
    "        print(name,tye)\n",
    "x = parrot()\n",
    "x.dis()\n",
    "        "
   ]
  },
  {
   "cell_type": "markdown",
   "metadata": {},
   "source": [
    "# Constructor - Init function()\n",
    "- All Classes have a function class init function()\n",
    "- Use Init() to assign values to object properties\n"
   ]
  },
  {
   "cell_type": "code",
   "execution_count": 8,
   "metadata": {},
   "outputs": [
    {
     "name": "stdout",
     "output_type": "stream",
     "text": [
      "Ajay\n",
      "20\n"
     ]
    }
   ],
   "source": [
    "# Create a class named Person,using init() function to assign values for name ,age\n",
    "class Person:\n",
    "    def __init__(self,name,age): #init is called automatically everytime when class used \n",
    "        self.name = name\n",
    "        self.age = age\n",
    "p = Person(\"Ajay\",20)\n",
    "print(p.name)\n",
    "print(p.age)\n",
    "        "
   ]
  },
  {
   "cell_type": "code",
   "execution_count": 10,
   "metadata": {},
   "outputs": [
    {
     "name": "stdout",
     "output_type": "stream",
     "text": [
      "Hi,My name is : Ajay\n",
      "Ajay\n",
      "20\n"
     ]
    }
   ],
   "source": [
    "# create a method\n",
    "class Person:\n",
    "    def __init__(self,name,age):\n",
    "        self.name = name\n",
    "        self.age = age\n",
    "    def mymethod(self):\n",
    "        print(\"Hi,My name is :\",self.name)\n",
    "p1 = Person(\"Ajay\",20)\n",
    "p1.mymethod()\n",
    "print(p.name)\n",
    "print(p.age)\n",
    "        "
   ]
  },
  {
   "cell_type": "code",
   "execution_count": 11,
   "metadata": {},
   "outputs": [
    {
     "name": "stdout",
     "output_type": "stream",
     "text": [
      "Vijay\n",
      "30\n"
     ]
    }
   ],
   "source": [
    "# Modify Object Propeties \n",
    "class Person:\n",
    "    def __init__(self,name,age):\n",
    "        self.name = name\n",
    "        self.age = age\n",
    "    def mymethod(self):\n",
    "        print(\"Hi,My name is :\",self.name)\n",
    "p1 = Person(\"Ajay\",20)\n",
    "p1.age = 30\n",
    "p1.name = \"Vijay\"\n",
    "print(p1.name)\n",
    "print(p1.age)"
   ]
  },
  {
   "cell_type": "code",
   "execution_count": 13,
   "metadata": {},
   "outputs": [
    {
     "name": "stdout",
     "output_type": "stream",
     "text": [
      "Ajay\n"
     ]
    },
    {
     "ename": "AttributeError",
     "evalue": "'Person' object has no attribute 'age'",
     "output_type": "error",
     "traceback": [
      "\u001b[1;31m---------------------------------------------------------------------------\u001b[0m",
      "\u001b[1;31mAttributeError\u001b[0m                            Traceback (most recent call last)",
      "\u001b[1;32m<ipython-input-13-77710b427129>\u001b[0m in \u001b[0;36m<module>\u001b[1;34m\u001b[0m\n\u001b[0;32m      9\u001b[0m \u001b[1;32mdel\u001b[0m \u001b[0mp1\u001b[0m\u001b[1;33m.\u001b[0m\u001b[0mage\u001b[0m\u001b[1;33m\u001b[0m\u001b[1;33m\u001b[0m\u001b[0m\n\u001b[0;32m     10\u001b[0m \u001b[0mprint\u001b[0m\u001b[1;33m(\u001b[0m\u001b[0mp1\u001b[0m\u001b[1;33m.\u001b[0m\u001b[0mname\u001b[0m\u001b[1;33m)\u001b[0m\u001b[1;33m\u001b[0m\u001b[1;33m\u001b[0m\u001b[0m\n\u001b[1;32m---> 11\u001b[1;33m \u001b[0mprint\u001b[0m\u001b[1;33m(\u001b[0m\u001b[0mp1\u001b[0m\u001b[1;33m.\u001b[0m\u001b[0mage\u001b[0m\u001b[1;33m)\u001b[0m\u001b[1;33m\u001b[0m\u001b[1;33m\u001b[0m\u001b[0m\n\u001b[0m",
      "\u001b[1;31mAttributeError\u001b[0m: 'Person' object has no attribute 'age'"
     ]
    }
   ],
   "source": [
    "# Delete Object \n",
    "class Person:\n",
    "    def __init__(self,name,age):\n",
    "        self.name = name\n",
    "        self.age = age\n",
    "    def mymethod(self):\n",
    "        print(\"Hi,My name is :\",self.name)\n",
    "p1 = Person(\"Ajay\",20)\n",
    "del p1.age\n",
    "print(p1.name)\n",
    "print(p1.age)"
   ]
  },
  {
   "cell_type": "code",
   "execution_count": null,
   "metadata": {},
   "outputs": [],
   "source": []
  }
 ],
 "metadata": {
  "kernelspec": {
   "display_name": "Python 3",
   "language": "python",
   "name": "python3"
  },
  "language_info": {
   "codemirror_mode": {
    "name": "ipython",
    "version": 3
   },
   "file_extension": ".py",
   "mimetype": "text/x-python",
   "name": "python",
   "nbconvert_exporter": "python",
   "pygments_lexer": "ipython3",
   "version": "3.8.5"
  }
 },
 "nbformat": 4,
 "nbformat_minor": 4
}
