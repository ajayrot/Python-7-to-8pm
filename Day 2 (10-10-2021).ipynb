{
 "cells": [
  {
   "cell_type": "markdown",
   "metadata": {},
   "source": [
    "# Control Flow Statements:\n",
    "- Conditional Statements\n",
    "  - if - else statement\n",
    "- Looping statements\n",
    "  - for loop statememt\n",
    "  - while loop statement"
   ]
  },
  {
   "cell_type": "markdown",
   "metadata": {},
   "source": [
    "# If else statement:\n"
   ]
  },
  {
   "cell_type": "code",
   "execution_count": null,
   "metadata": {},
   "outputs": [],
   "source": [
    "# Syntax\n",
    "if boolean_statememt:\n",
    "    statement\n",
    "else:\n",
    "    statement"
   ]
  },
  {
   "cell_type": "code",
   "execution_count": 2,
   "metadata": {},
   "outputs": [
    {
     "name": "stdout",
     "output_type": "stream",
     "text": [
      "Enter a number: 8\n",
      "Even\n"
     ]
    }
   ],
   "source": [
    "# check given  number is even or odd number\n",
    "n = int(input(\"Enter a number: \"))\n",
    "if n %2 == 0:\n",
    "    print(\"Even\")\n",
    "else:\n",
    "    print(\"odd\")"
   ]
  },
  {
   "cell_type": "code",
   "execution_count": 4,
   "metadata": {},
   "outputs": [
    {
     "name": "stdout",
     "output_type": "stream",
     "text": [
      "Enter a number :15\n",
      "yes\n"
     ]
    }
   ],
   "source": [
    "# Check given is multiple of both 3 and 5\n",
    "n = int(input(\"Enter a number :\"))\n",
    "if n%3 == 0 and n%5==0:\n",
    "    print(\"yes\")\n",
    "else:\n",
    "    print(\"No\")"
   ]
  },
  {
   "cell_type": "code",
   "execution_count": 8,
   "metadata": {},
   "outputs": [
    {
     "name": "stdout",
     "output_type": "stream",
     "text": [
      "Enter a number :0\n",
      "Zero\n"
     ]
    }
   ],
   "source": [
    "# Check given number is positive,negative or zero\n",
    "n = int(input(\"Enter a number :\"))\n",
    "if n >0:\n",
    "    print(\"Positive Number\")\n",
    "elif n < 0:\n",
    "    print(\"Negative Number\")\n",
    "elif n==0:\n",
    "    print(\"Zero\")"
   ]
  },
  {
   "cell_type": "code",
   "execution_count": 11,
   "metadata": {},
   "outputs": [
    {
     "name": "stdout",
     "output_type": "stream",
     "text": [
      "Enter a nunber :5\n",
      "Enter a number :7\n",
      "ENter a number :9\n",
      "9 is large number\n"
     ]
    }
   ],
   "source": [
    "# from given numbers find large number\n",
    "# x1  x2  x3\n",
    "x1 = int(input(\"Enter a nunber :\"))\n",
    "x2 = int(input(\"Enter a number :\"))\n",
    "x3 = int(input(\"ENter a number :\"))\n",
    "if x1 >x2 and x1 >x3:\n",
    "    print(x1,\"is a large number\")\n",
    "elif x2 > x1 and x2 >x3:\n",
    "    print(x2,\"is large number\")\n",
    "else :\n",
    "    print(x3,\"is large number\")"
   ]
  },
  {
   "cell_type": "markdown",
   "metadata": {},
   "source": [
    "# Looping statements\n",
    "- while loop statement:"
   ]
  },
  {
   "cell_type": "code",
   "execution_count": null,
   "metadata": {},
   "outputs": [],
   "source": [
    "# syntax\n",
    "while Boolean_condition:\n",
    "    statement\n",
    "    increment/Decrement"
   ]
  },
  {
   "cell_type": "code",
   "execution_count": 12,
   "metadata": {},
   "outputs": [
    {
     "name": "stdout",
     "output_type": "stream",
     "text": [
      "Ajay\n",
      "Ajay\n",
      "Ajay\n",
      "Ajay\n",
      "Ajay\n",
      "Ajay\n",
      "Ajay\n",
      "Ajay\n",
      "Ajay\n",
      "Ajay\n"
     ]
    }
   ],
   "source": [
    "# Print \"Ajay\" for 10 times\n",
    "print(\"Ajay\")\n",
    "print(\"Ajay\")\n",
    "print(\"Ajay\")\n",
    "print(\"Ajay\")\n",
    "print(\"Ajay\")\n",
    "print(\"Ajay\")\n",
    "print(\"Ajay\")\n",
    "print(\"Ajay\")\n",
    "print(\"Ajay\")\n",
    "print(\"Ajay\")"
   ]
  },
  {
   "cell_type": "code",
   "execution_count": 15,
   "metadata": {},
   "outputs": [
    {
     "name": "stdout",
     "output_type": "stream",
     "text": [
      "Ajay\n",
      "Ajay\n",
      "Ajay\n",
      "Ajay\n",
      "Ajay\n",
      "Ajay\n",
      "Ajay\n",
      "Ajay\n",
      "Ajay\n",
      "Ajay\n"
     ]
    }
   ],
   "source": [
    "i = 0\n",
    "while i < 10:\n",
    "    print(\"Ajay\")\n",
    "    i +=1 # i = i+1"
   ]
  },
  {
   "cell_type": "code",
   "execution_count": 17,
   "metadata": {},
   "outputs": [
    {
     "name": "stdout",
     "output_type": "stream",
     "text": [
      "Enter a number :12\n",
      "1 2 3 4 6 12 "
     ]
    }
   ],
   "source": [
    "# Print the output as factor of given number \n",
    "# 6 -- 1,2,3,6\n",
    "# 12 -- 1,2,3,4,6,12\\\n",
    "n = int(input(\"Enter a number :\"))\n",
    "i = 1\n",
    "while i <= n:\n",
    "    if n % i ==0:\n",
    "        print(i,end = \" \")\n",
    "    i = i+1"
   ]
  },
  {
   "cell_type": "code",
   "execution_count": 19,
   "metadata": {},
   "outputs": [
    {
     "name": "stdout",
     "output_type": "stream",
     "text": [
      "123\n",
      "3 2 1 "
     ]
    }
   ],
   "source": [
    "# Input : 123\n",
    "# output : 321\n",
    "n = int(input())\n",
    "while n != 0:\n",
    "    print(n %10,end = \" \")\n",
    "    n = n//10"
   ]
  },
  {
   "cell_type": "code",
   "execution_count": 20,
   "metadata": {},
   "outputs": [
    {
     "name": "stdout",
     "output_type": "stream",
     "text": [
      "10\n",
      "1 2 3 4 5 6 7 8 9 10 "
     ]
    }
   ],
   "source": [
    "#Input : 10\n",
    "# output: 1 2 3 4 5 6 7 8 9 10\n",
    "n = int(input())\n",
    "i = 1\n",
    "while i <= n:\n",
    "    print(i,end = \" \")\n",
    "    i += 1"
   ]
  },
  {
   "cell_type": "code",
   "execution_count": 21,
   "metadata": {},
   "outputs": [
    {
     "name": "stdout",
     "output_type": "stream",
     "text": [
      "10\n",
      "10 9 8 7 6 5 4 3 2 1 "
     ]
    }
   ],
   "source": [
    "# Input 10\n",
    "# Output : 10 9 8 7 6 5 4 3 2 1\n",
    "n = int(input())\n",
    "i = 1\n",
    "while n >= i:\n",
    "    print(n,end = \" \")\n",
    "    n -= 1"
   ]
  },
  {
   "cell_type": "code",
   "execution_count": null,
   "metadata": {},
   "outputs": [],
   "source": [
    "# 123456789 --> 1,9\n"
   ]
  }
 ],
 "metadata": {
  "kernelspec": {
   "display_name": "Python 3",
   "language": "python",
   "name": "python3"
  },
  "language_info": {
   "codemirror_mode": {
    "name": "ipython",
    "version": 3
   },
   "file_extension": ".py",
   "mimetype": "text/x-python",
   "name": "python",
   "nbconvert_exporter": "python",
   "pygments_lexer": "ipython3",
   "version": "3.8.5"
  }
 },
 "nbformat": 4,
 "nbformat_minor": 4
}
